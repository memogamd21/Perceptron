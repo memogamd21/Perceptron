{
 "cells": [
  {
   "cell_type": "code",
   "execution_count": 1,
   "metadata": {},
   "outputs": [],
   "source": [
    "import numpy as np\n",
    "from sklearn.datasets import load_iris\n",
    "\n",
    "iris = load_iris()\n",
    "# use only petal length and petal width\n",
    "iris_X = iris.data[:, (2, 3)]\n",
    "# check only if it's an Iris-Setosa (1), or no (0)\n",
    "iris_Y = (iris.target == 0).astype(np.int)"
   ]
  },
  {
   "cell_type": "code",
   "execution_count": 2,
   "metadata": {},
   "outputs": [
    {
     "name": "stdout",
     "output_type": "stream",
     "text": [
      "[ 0.  0.  0.  0.  0.]\n",
      "[-0.16251544  1.94205405  0.63153221  0.42776461  0.08701275]\n"
     ]
    }
   ],
   "source": [
    "class MyPerceptron:\n",
    "\n",
    "    def __init__(self, inputs_number):\n",
    "        self.weights = np.zeros(inputs_number)\n",
    "        self.threshold = 0\n",
    "\n",
    "    def initialize(self):\n",
    "        self.threshold = np.random.normal(0, 1)\n",
    "        self.weights = np.array(np.random.normal(0, 1, self.weights.size))\n",
    "\n",
    "    def fire(self, xs):\n",
    "        return self.threshold + self.weights.dot(xs.T) > 0\n",
    "\n",
    "    def loss_function(self, X, Y):\n",
    "        return (abs(self.fire(X) - Y)).sum()\n",
    "    \n",
    "    def train(self, X, Y, alpha=1.0, eps=1e-5, epochs=1e5):\n",
    "        self.initialize()\n",
    "        epoch, dlf = 0, float('inf')\n",
    "        old_lf = self.loss_function(X, Y)\n",
    "        while epoch < epochs and dlf > eps:\n",
    "            epoch += 1\n",
    "            print epoch, self.threshold, self.weights\n",
    "            for i in range(len(Y)):\n",
    "                predict = self.fire(X[i])\n",
    "                self.threshold += alpha * (Y[i] - predict)\n",
    "                self.weights = self.weights + \\\n",
    "                                alpha * (Y[i] - predict) * X[i]\n",
    "            new_lf = self.loss_function(X, Y)\n",
    "            dlf = 0 if new_lf == old_lf else \\\n",
    "                    1.0 * abs(new_lf - old_lf) / old_lf\n",
    "            print dlf\n",
    "            old_lf = self.loss_function(X, Y)\n",
    "\n",
    "            \n",
    "mp = MyPerceptron(5)\n",
    "print mp.weights\n",
    "mp.initialize()\n",
    "print mp.weights"
   ]
  },
  {
   "cell_type": "code",
   "execution_count": 3,
   "metadata": {},
   "outputs": [],
   "source": [
    "import matplotlib.pyplot as plt\n",
    "\n",
    "# define train and test sets\n",
    "from sklearn.model_selection import train_test_split\n",
    "X_train, X_test, Y_train, Y_test  = train_test_split(iris_X, iris_Y, test_size=0.5)"
   ]
  },
  {
   "cell_type": "code",
   "execution_count": 4,
   "metadata": {},
   "outputs": [
    {
     "name": "stdout",
     "output_type": "stream",
     "text": [
      "1 0.36940856394 [-0.95252758  0.81099224]\n",
      "1.0\n",
      "2 4.36940856394 [-1.15252758 -0.78900776]\n",
      "0\n",
      "\n",
      "4.36940856394 [-1.15252758 -0.78900776]\n"
     ]
    },
    {
     "data": {
      "text/plain": [
       "<matplotlib.collections.PathCollection at 0x7fe2eb7e0710>"
      ]
     },
     "execution_count": 4,
     "metadata": {},
     "output_type": "execute_result"
    }
   ],
   "source": [
    "mp = MyPerceptron(2)\n",
    "mp.train(X_train, Y_train)\n",
    "print\n",
    "print mp.threshold, mp.weights\n",
    "\n",
    "mp_predicts = mp.fire(X_test)\n",
    "\n",
    "# show predictions\n",
    "class1, class2 = [], []\n",
    "for xs in X_test:\n",
    "    if mp.fire(xs):\n",
    "        class1.append(xs)\n",
    "    else:\n",
    "        class2.append(xs)\n",
    "\n",
    "class1, class2 = np.array(class1), np.array(class2)\n",
    "\n",
    "widths = np.linspace(min(X_test[:, 0]), max(X_test[:, 0]), 10)\n",
    "lengths = [-mp.weights[0] / mp.weights[1] * w - mp.threshold / mp.weights[1]\n",
    "           for w in widths]\n",
    "\n",
    "plt.xlabel('Petal width')\n",
    "plt.ylabel('Petal length')\n",
    "plt.plot(widths, lengths, color='green')\n",
    "plt.scatter(class1[:, 0], class1[:, 1])\n",
    "plt.scatter(class2[:, 0], class2[:, 1])\n",
    "# plt.show()"
   ]
  },
  {
   "cell_type": "code",
   "execution_count": 5,
   "metadata": {},
   "outputs": [
    {
     "name": "stdout",
     "output_type": "stream",
     "text": [
      "Perceptron(alpha=1, class_weight=None, eta0=1.0, fit_intercept=True,\n",
      "      max_iter=100000.0, n_iter=None, n_jobs=1, penalty=None,\n",
      "      random_state=0, shuffle=True, tol=None, verbose=0, warm_start=False)\n",
      "[ 5.] [[-1.9 -2.2]] 100000\n"
     ]
    },
    {
     "data": {
      "image/png": "[encoded data removed]",
      "text/plain": [
       "<matplotlib.figure.Figure at 0x7fe2f2920e90>"
      ]
     },
     "metadata": {},
     "output_type": "display_data"
    }
   ],
   "source": [
    "from sklearn.linear_model import Perceptron\n",
    "\n",
    "p = Perceptron(alpha=1, max_iter=1e5)\n",
    "print p\n",
    "p.fit(X_train, Y_train)\n",
    "print p.intercept_, p.coef_, p.n_iter_\n",
    "\n",
    "plengths = [-p.coef_[0][0] / p.coef_[0][1] * w - p.intercept_[0] / p.coef_[0][0]\n",
    "            for w in widths]\n",
    "plt.plot(widths, plengths, color='red')\n",
    "plt.show()"
   ]
  },
  {
   "cell_type": "code",
   "execution_count": null,
   "metadata": {},
   "outputs": [],
   "source": []
  }
 ],
 "metadata": {
  "kernelspec": {
   "display_name": "Python 3",
   "language": "python",
   "name": "python3"
  },
  "language_info": {
   "codemirror_mode": {
    "name": "ipython",
    "version": 3
   },
   "file_extension": ".py",
   "mimetype": "text/x-python",
   "name": "python",
   "nbconvert_exporter": "python",
   "pygments_lexer": "ipython3",
   "version": "3.6.5"
  }
 },
 "nbformat": 4,
 "nbformat_minor": 2
}
