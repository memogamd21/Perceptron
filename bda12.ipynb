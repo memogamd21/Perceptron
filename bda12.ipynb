{
 "cells": [
  {
   "cell_type": "code",
   "execution_count": 1,
   "metadata": {},
   "outputs": [],
   "source": [
    "from sklearn.datasets import load_iris\n",
    "iris = load_iris()"
   ]
  },
  {
   "cell_type": "code",
   "execution_count": 55,
   "metadata": {},
   "outputs": [
    {
     "data": {
      "text/plain": [
       "150"
      ]
     },
     "execution_count": 55,
     "metadata": {},
     "output_type": "execute_result"
    }
   ],
   "source": [
    "xs = iris.data\n",
    "len(xs)"
   ]
  },
  {
   "cell_type": "code",
   "execution_count": 4,
   "metadata": {},
   "outputs": [
    {
     "data": {
      "text/plain": [
       "array(['setosa', 'versicolor', 'virginica'],\n",
       "      dtype='|S10')"
      ]
     },
     "execution_count": 4,
     "metadata": {},
     "output_type": "execute_result"
    }
   ],
   "source": [
    "iris.target_names"
   ]
  },
  {
   "cell_type": "code",
   "execution_count": 31,
   "metadata": {},
   "outputs": [
    {
     "name": "stdout",
     "output_type": "stream",
     "text": [
      "[87, 29, 55, 70, 75, 67, 138, 141, 103, 132, 13, 91, 62, 73, 139, 37, 100, 127, 93, 84, 134, 19, 129, 52, 128, 46, 82, 41, 21, 112, 40, 34, 57, 10, 140, 144, 117, 74, 136, 23, 77, 115, 106, 9, 81, 126, 45, 54, 59, 64, 33, 116, 95, 14, 38, 122, 2, 119, 3, 68, 142, 53, 80, 107, 83, 35, 15, 26, 31, 97, 145, 121, 0, 104, 86, 5, 25, 42, 22, 110, 113, 4, 130, 99, 6, 78, 114, 90, 125, 49, 56, 148, 60, 11, 48, 102, 105, 66, 17, 76, 39, 12, 143, 36, 18, 7, 94, 85, 124, 96, 50, 137, 89, 123, 88, 146, 71, 43, 98, 111]\n",
      "[118, 135, 20, 120, 47, 149, 108, 63, 27, 147, 44, 72, 16, 1, 65, 61, 109, 8, 69, 32, 133, 131, 30, 28, 92, 51, 79, 58, 101, 24]\n"
     ]
    }
   ],
   "source": [
    "import random\n",
    "\n",
    "def train_test(n, split):\n",
    "    train, test = [], []\n",
    "    for i in range(n):\n",
    "        if random.random() < split:\n",
    "            train.append(i)\n",
    "        else:\n",
    "            test.append(i)\n",
    "    return train, test\n",
    "\n",
    "def train_test2(n, split):\n",
    "    ns = range(n)\n",
    "    random.shuffle(ns)\n",
    "    return ns[:int(n * split)], ns[int(n * split):]\n",
    "\n",
    "train_idx, test_idx = train_test2(150, 0.8)\n",
    "print train_idx\n",
    "print test_idx"
   ]
  },
  {
   "cell_type": "code",
   "execution_count": 40,
   "metadata": {},
   "outputs": [
    {
     "data": {
      "text/plain": [
       "array(['setosa', 'versicolor', 'virginica'],\n",
       "      dtype='|S10')"
      ]
     },
     "execution_count": 40,
     "metadata": {},
     "output_type": "execute_result"
    }
   ],
   "source": [
    "iris.target_names"
   ]
  },
  {
   "cell_type": "code",
   "execution_count": 46,
   "metadata": {},
   "outputs": [],
   "source": [
    "import numpy as np\n",
    "\n",
    "ys = np.array([iris.target_names[i] for i in iris.target])"
   ]
  },
  {
   "cell_type": "code",
   "execution_count": 45,
   "metadata": {},
   "outputs": [
    {
     "data": {
      "text/plain": [
       "array(['virginica', 'virginica', 'setosa', 'virginica', 'setosa',\n",
       "       'virginica', 'virginica', 'versicolor', 'setosa', 'virginica',\n",
       "       'setosa', 'versicolor', 'setosa', 'setosa', 'versicolor',\n",
       "       'versicolor', 'virginica', 'setosa', 'versicolor', 'setosa',\n",
       "       'virginica', 'virginica', 'setosa', 'setosa', 'versicolor',\n",
       "       'versicolor', 'versicolor', 'versicolor', 'virginica', 'setosa'],\n",
       "      dtype='|S10')"
      ]
     },
     "execution_count": 45,
     "metadata": {},
     "output_type": "execute_result"
    }
   ],
   "source": [
    "ys[test_idx]"
   ]
  },
  {
   "cell_type": "code",
   "execution_count": 60,
   "metadata": {},
   "outputs": [
    {
     "data": {
      "text/plain": [
       "3.0577769702841309"
      ]
     },
     "execution_count": 60,
     "metadata": {},
     "output_type": "execute_result"
    }
   ],
   "source": [
    "euclidean = lambda p, q: sum([(p[i] - q[i])**2\n",
    "                              for i in range(len(p))])**0.5\n",
    "\n",
    "euclidean(xs[0], xs[99])"
   ]
  },
  {
   "cell_type": "code",
   "execution_count": 84,
   "metadata": {},
   "outputs": [
    {
     "name": "stdout",
     "output_type": "stream",
     "text": [
      "[ 7.7  2.8  6.7  2. ] virginica\n",
      "[ 7.6  3.   6.6  2.1] virginica\n",
      "[ 7.3  2.9  6.3  1.8] virginica\n",
      "[ 7.4  2.8  6.1  1.9] virginica\n",
      "[ 7.7  3.8  6.7  2.2] virginica\n"
     ]
    }
   ],
   "source": [
    "def neighbors_idx(xs, x, k):\n",
    "    dist = [(euclidean(x, xs[i]), i)\n",
    "            for i in range(len(xs))]\n",
    "    dist.sort()\n",
    "    return [d[1] for d in dist[:k]]\n",
    "\n",
    "ns = neighbors_idx(xs[train_idx], xs[test_idx][0], 5)\n",
    "for i in ns:\n",
    "    print xs[train_idx][i], ys[train_idx][i]"
   ]
  },
  {
   "cell_type": "code",
   "execution_count": 98,
   "metadata": {},
   "outputs": [
    {
     "data": {
      "text/plain": [
       "'versicolor'"
      ]
     },
     "execution_count": 98,
     "metadata": {},
     "output_type": "execute_result"
    }
   ],
   "source": [
    "def classify(xs, ys, x, k):\n",
    "    ns = neighbors_idx(xs, x, k)\n",
    "    d = {}\n",
    "    for idx in ns:\n",
    "        if ys[idx] in d:\n",
    "            d[ys[idx]] += 1\n",
    "        else:\n",
    "            d[ys[idx]] = 1\n",
    "    d = sorted(d.iteritems(), key=lambda(k,v):v, reverse=True)\n",
    "    return d[0][0]\n",
    "\n",
    "classify(xs[train_idx], ys[train_idx], xs[test_idx][0], int(150*.8))"
   ]
  },
  {
   "cell_type": "code",
   "execution_count": 139,
   "metadata": {},
   "outputs": [
    {
     "name": "stdout",
     "output_type": "stream",
     "text": [
      "0.9632 0.0187018715641\n"
     ]
    },
    {
     "data": {
      "image/png": "[encoded data removed]",
      "text/plain": [
       "<matplotlib.figure.Figure at 0x7f14cc0fddd0>"
      ]
     },
     "metadata": {},
     "output_type": "display_data"
    }
   ],
   "source": [
    "def accuracy(xs, ys, (train_idx, test_idx), k):\n",
    "    correct = 0\n",
    "    for i in test_idx:\n",
    "        answer = classify(xs[train_idx], ys[train_idx], xs[i], k)\n",
    "        if ys[i] == answer:\n",
    "            correct += 1\n",
    "    return 1.0 * correct / len(test_idx)\n",
    "\n",
    "acs = np.array([accuracy(xs, ys, train_test2(len(ys), 2./3), 5)\n",
    "               for _ in range(100)])\n",
    "\n",
    "print acs.mean(), acs.std()\n",
    "\n",
    "from matplotlib import pyplot as plt\n",
    "plt.hist(acs, bins=5)\n",
    "plt.show()"
   ]
  },
  {
   "cell_type": "code",
   "execution_count": 115,
   "metadata": {},
   "outputs": [
    {
     "data": {
      "image/png": "[encoded data removed]",
      "text/plain": [
       "<matplotlib.figure.Figure at 0x7f149dd40f10>"
      ]
     },
     "metadata": {},
     "output_type": "display_data"
    }
   ],
   "source": [
    "s1, s2, s3 = [], [], []\n",
    "\n",
    "iris.target_names\n",
    "for i in range(len(ys)):\n",
    "    if ys[i] == 'setosa':\n",
    "        s1.append(xs[i])\n",
    "    if ys[i] == 'versicolor':\n",
    "        s2.append(xs[i])\n",
    "    if ys[i] == 'virginica':\n",
    "        s3.append(xs[i])\n",
    "s1, s2, s3 = np.array(s1), np.array(s2), np.array(s3)\n",
    "\n",
    "plt.scatter(s1[:, 2], s1[:, 3], color='red')\n",
    "plt.scatter(s2[:, 2], s2[:, 3], color='blue')\n",
    "plt.scatter(s3[:, 2], s3[:, 3], color='green')\n",
    "plt.show()"
   ]
  },
  {
   "cell_type": "code",
   "execution_count": 138,
   "metadata": {},
   "outputs": [
    {
     "name": "stdout",
     "output_type": "stream",
     "text": [
      "0.966666666667\n",
      "0.966666666667\n"
     ]
    }
   ],
   "source": [
    "from sklearn.neighbors import KNeighborsClassifier\n",
    "from sklearn.metrics import accuracy_score\n",
    "\n",
    "knn = KNeighborsClassifier(4)\n",
    "knn.fit(xs[train_idx], ys[train_idx])\n",
    "predicts = knn.predict(xs[test_idx])\n",
    "\n",
    "\n",
    "print accuracy(xs, ys, (train_idx, test_idx), 4)\n",
    "print accuracy_score(predicts, ys[test_idx])"
   ]
  }
 ],
 "metadata": {
  "kernelspec": {
   "display_name": "Python 3",
   "language": "python",
   "name": "python3"
  },
  "language_info": {
   "codemirror_mode": {
    "name": "ipython",
    "version": 3
   },
   "file_extension": ".py",
   "mimetype": "text/x-python",
   "name": "python",
   "nbconvert_exporter": "python",
   "pygments_lexer": "ipython3",
   "version": "3.6.5"
  }
 },
 "nbformat": 4,
 "nbformat_minor": 2
}
